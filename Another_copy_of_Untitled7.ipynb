{
  "cells": [
    {
      "cell_type": "code",
      "execution_count": null,
      "metadata": {
        "colab": {
          "base_uri": "https://localhost:8080/"
        },
        "id": "jLWPp0apOUYa",
        "outputId": "b9543b42-6c77-4935-b9c6-f2b2935fe952"
      },
      "outputs": [
        {
          "metadata": {
            "tags": null
          },
          "name": "stdout",
          "output_type": "stream",
          "text": [
            "Warning: Looks like you're using an outdated `kagglehub` version (installed: 0.3.5), please consider upgrading to the latest version (0.3.6).\n",
            "Downloading from https://www.kaggle.com/api/v1/datasets/download/paultimothymooney/chest-xray-pneumonia?dataset_version_number=2...\n"
          ]
        },
        {
          "metadata": {
            "tags": null
          },
          "name": "stderr",
          "output_type": "stream",
          "text": [
            "100%|██████████| 2.29G/2.29G [00:19<00:00, 126MB/s]"
          ]
        },
        {
          "metadata": {
            "tags": null
          },
          "name": "stdout",
          "output_type": "stream",
          "text": [
            "Extracting files...\n"
          ]
        },
        {
          "metadata": {
            "tags": null
          },
          "name": "stderr",
          "output_type": "stream",
          "text": [
            "\n"
          ]
        },
        {
          "metadata": {
            "tags": null
          },
          "name": "stdout",
          "output_type": "stream",
          "text": [
            "Path to dataset files: /root/.cache/kagglehub/datasets/paultimothymooney/chest-xray-pneumonia/versions/2\n"
          ]
        }
      ],
      "source": [
        "import kagglehub\n",
        "\n",
        "# Download latest version\n",
        "path = kagglehub.dataset_download(\"paultimothymooney/chest-xray-pneumonia\")\n",
        "\n",
        "print(\"Path to dataset files:\", path)"
      ]
    },
    {
      "cell_type": "code",
      "execution_count": null,
      "metadata": {
        "colab": {
          "base_uri": "https://localhost:8080/"
        },
        "id": "u3dTGvdxcnBd",
        "outputId": "cade39d6-1531-4a13-d15d-32fa5692773e"
      },
      "outputs": [
        {
          "output_type": "stream",
          "name": "stdout",
          "text": [
            "Warning: Looks like you're using an outdated `kagglehub` version (installed: 0.3.5), please consider upgrading to the latest version (0.3.6).\n",
            "Dataset Path: /root/.cache/kagglehub/datasets/paultimothymooney/chest-xray-pneumonia/versions/2\n"
          ]
        }
      ],
      "source": [
        "path = kagglehub.dataset_download(\"paultimothymooney/chest-xray-pneumonia\")\n",
        "print(\"Dataset Path:\", path)\n"
      ]
    },
    {
      "cell_type": "code",
      "source": [
        "import os\n",
        "import numpy as np\n",
        "import pandas as pd\n",
        "import matplotlib.pyplot as plt\n",
        "import seaborn as sns\n",
        "import torch\n",
        "from torch.utils.data import DataLoader, WeightedRandomSampler,random_split, ConcatDataset, Subset\n",
        "from torch import nn, optim\n",
        "from torch.cuda import amp\n",
        "from torchvision import datasets, transforms, models\n",
        "from torch.cuda.amp import autocast, GradScaler\n",
        "import torch.optim.lr_scheduler as lr_scheduler"
      ],
      "metadata": {
        "id": "ACfsoBO8Km5k"
      },
      "execution_count": null,
      "outputs": []
    },
    {
      "cell_type": "code",
      "execution_count": null,
      "metadata": {
        "colab": {
          "base_uri": "https://localhost:8080/"
        },
        "id": "mWMqulz-mGhO",
        "outputId": "b8a83e51-9f8f-4b1e-9a0b-3ceeb6d90cfe"
      },
      "outputs": [
        {
          "output_type": "stream",
          "name": "stdout",
          "text": [
            "['chest_xray']\n"
          ]
        }
      ],
      "source": [
        "# Dataset Paths\n",
        "path = \"/root/.cache/kagglehub/datasets/paultimothymooney/chest-xray-pneumonia/versions/2\"  # Replace with the output path from kagglehub\n",
        "train_dir = os.path.join(path, \"train\")\n",
        "val_dir = os.path.join(path, \"val\")\n",
        "test_dir = os.path.join(path, \"test\")\n",
        "import os\n",
        "\n",
        "print(os.listdir(path))\n"
      ]
    },
    {
      "cell_type": "code",
      "execution_count": null,
      "metadata": {
        "id": "jn7gLS-DvJYX"
      },
      "outputs": [],
      "source": [
        "train_dir = os.path.join(path, \"chest_xray\", \"train\")\n",
        "val_dir = os.path.join(path, \"chest_xray\", \"val\")\n",
        "test_dir = os.path.join(path, \"chest_xray\", \"test\")\n"
      ]
    },
    {
      "cell_type": "code",
      "execution_count": null,
      "metadata": {
        "colab": {
          "base_uri": "https://localhost:8080/"
        },
        "id": "yqpvGOdjvTK3",
        "outputId": "7484045a-1b69-4864-fb88-99f5a0657d43"
      },
      "outputs": [
        {
          "output_type": "stream",
          "name": "stdout",
          "text": [
            "Train Directory Exists: True\n",
            "Validation Directory Exists: True\n",
            "Test Directory Exists: True\n"
          ]
        }
      ],
      "source": [
        "import os\n",
        "print(\"Train Directory Exists:\", os.path.exists(train_dir))\n",
        "print(\"Validation Directory Exists:\", os.path.exists(val_dir))\n",
        "print(\"Test Directory Exists:\", os.path.exists(test_dir))\n"
      ]
    },
    {
      "cell_type": "code",
      "source": [
        "print(\"Train set:\\n========================================\")\n",
        "num_pneumonia = len(os.listdir(os.path.join(train_dir, 'PNEUMONIA')))\n",
        "num_normal = len(os.listdir(os.path.join(train_dir, 'NORMAL')))\n",
        "print(f\"PNEUMONIA={num_pneumonia}\")\n",
        "print(f\"NORMAL={num_normal}\")"
      ],
      "metadata": {
        "id": "PARV0B4iWKKp",
        "outputId": "e1667991-c681-4f8c-c7be-a48f01430cac",
        "colab": {
          "base_uri": "https://localhost:8080/"
        }
      },
      "execution_count": null,
      "outputs": [
        {
          "output_type": "stream",
          "name": "stdout",
          "text": [
            "Train set:\n",
            "========================================\n",
            "PNEUMONIA=3875\n",
            "NORMAL=1341\n"
          ]
        }
      ]
    },
    {
      "cell_type": "code",
      "source": [
        "print(\"Test set:\\n========================================\")\n",
        "print(f\"PNEUMONIA={len(os.listdir(os.path.join(test_dir, 'PNEUMONIA')))}\")\n",
        "print(f\"NORMAL={len(os.listdir(os.path.join(test_dir, 'NORMAL')))}\")"
      ],
      "metadata": {
        "id": "5vc4jW77WLl9",
        "outputId": "f0e66950-60d2-415d-a9f3-5e5fefaeb2d3",
        "colab": {
          "base_uri": "https://localhost:8080/"
        }
      },
      "execution_count": null,
      "outputs": [
        {
          "output_type": "stream",
          "name": "stdout",
          "text": [
            "Test set:\n",
            "========================================\n",
            "PNEUMONIA=390\n",
            "NORMAL=234\n"
          ]
        }
      ]
    },
    {
      "cell_type": "code",
      "source": [
        "print(\"Validation set:\\n========================================\")\n",
        "print(f\"PNEUMONIA={len(os.listdir(os.path.join(val_dir, 'PNEUMONIA')))}\")\n",
        "print(f\"NORMAL={len(os.listdir(os.path.join(val_dir, 'NORMAL')))}\")"
      ],
      "metadata": {
        "id": "HVojxeVXWPUt",
        "outputId": "80f09d85-defa-4afb-f0eb-2d8f513634e5",
        "colab": {
          "base_uri": "https://localhost:8080/"
        }
      },
      "execution_count": null,
      "outputs": [
        {
          "output_type": "stream",
          "name": "stdout",
          "text": [
            "Validation set:\n",
            "========================================\n",
            "PNEUMONIA=8\n",
            "NORMAL=8\n"
          ]
        }
      ]
    },
    {
      "cell_type": "code",
      "source": [
        "# Augmentation for training data (convert to grayscale with 1 channel)\n",
        "train_augmentation = transforms.Compose([\n",
        "    transforms.RandomHorizontalFlip(),\n",
        "    transforms.RandomRotation(15),\n",
        "    transforms.ColorJitter(brightness=0.2, contrast=0.2, saturation=0.2),\n",
        "    transforms.Resize((1024, 1024)),\n",
        "    transforms.Grayscale(num_output_channels=1),  # Convert to grayscale (1 channel)\n",
        "    transforms.ToTensor(),\n",
        "    transforms.Normalize(mean=(0.5,), std=(0.5,)),  # Normalize 1 channel\n",
        "])"
      ],
      "metadata": {
        "id": "mI_krGoXWTwB"
      },
      "execution_count": null,
      "outputs": []
    },
    {
      "cell_type": "code",
      "source": [
        "# Common transformations for validation and testing hande unbalance (keep as grayscale)\n",
        "common_transform = transforms.Compose([\n",
        "    transforms.Grayscale(num_output_channels=1),\n",
        "    transforms.Resize((1024, 1024)),\n",
        "    transforms.ToTensor(),\n",
        "    transforms.Normalize(mean=(0.5,), std=(0.5,)),\n",
        "])"
      ],
      "metadata": {
        "id": "hAltF-E4Wcl5"
      },
      "execution_count": null,
      "outputs": []
    },
    {
      "cell_type": "code",
      "source": [
        "# Load datasets from directories with respective transformations\n",
        "train_dataset_raw = datasets.ImageFolder(root=train_dir, transform=train_augmentation)\n",
        "val_dataset_raw = datasets.ImageFolder(root=val_dir, transform=common_transform)\n",
        "test_dataset_raw = datasets.ImageFolder(root=test_dir, transform=common_transform)\n"
      ],
      "metadata": {
        "id": "Cl-z5STqWk0Y"
      },
      "execution_count": null,
      "outputs": []
    },
    {
      "cell_type": "code",
      "source": [
        "# Combine all datasets\n",
        "combined_dataset = ConcatDataset([train_dataset_raw, val_dataset_raw, test_dataset_raw])\n",
        "\n",
        "# Shuffle and split combined dataset into 80% train, 10% validation, and 10% test\n",
        "total_size = len(combined_dataset)\n",
        "train_size = int(0.8 * total_size)\n",
        "val_size = int(0.1 * total_size)\n",
        "test_size = total_size - train_size - val_size  # Ensure no data is lost\n",
        "\n",
        "# Create a torch.Generator for reproducibility\n",
        "torch_gen = torch.Generator().manual_seed(42)\n",
        "\n",
        "# Split the dataset\n",
        "train_indices, val_indices, test_indices = random_split(\n",
        "    range(total_size), [train_size, val_size, test_size], generator=torch_gen\n",
        ")"
      ],
      "metadata": {
        "id": "fnq0zRn5WmLV"
      },
      "execution_count": null,
      "outputs": []
    },
    {
      "cell_type": "code",
      "source": [
        "# Define datasets with respective subsets\n",
        "train_dataset = Subset(combined_dataset, train_indices)\n",
        "val_dataset = Subset(combined_dataset, val_indices)\n",
        "test_dataset = Subset(combined_dataset, test_indices)"
      ],
      "metadata": {
        "id": "APu2KB7wWpT4"
      },
      "execution_count": null,
      "outputs": []
    },
    {
      "cell_type": "code",
      "source": [
        "# Create a WeightedRandomSampler for the training dataset\n",
        "train_targets = [train_dataset.dataset[i][1] for i in train_indices]  # Get class indices for training samples\n",
        "\n",
        "# Compute class counts and weights\n",
        "class_counts = np.bincount(train_targets)  # Count occurrences of each class\n",
        "class_weights = 1.0 / class_counts  # Inverse of class counts\n",
        "sample_weights = np.array([class_weights[target] for target in train_targets])  # Assign weights to samples\n",
        "\n",
        "# Initialize the WeightedRandomSampler\n",
        "sampler = WeightedRandomSampler(weights=sample_weights, num_samples=len(sample_weights), replacement=True)\n"
      ],
      "metadata": {
        "id": "_6rfc5jhWtLu"
      },
      "execution_count": null,
      "outputs": []
    },
    {
      "cell_type": "code",
      "source": [
        "# DataLoaders for training, validation, and testing\n",
        "train_loader = DataLoader(train_dataset, batch_size=16, sampler=sampler)\n",
        "val_loader = DataLoader(val_dataset, batch_size=16, shuffle=False)\n",
        "test_loader = DataLoader(test_dataset, batch_size=16, shuffle=False)"
      ],
      "metadata": {
        "id": "xQ2LLq5QYl2B"
      },
      "execution_count": null,
      "outputs": []
    },
    {
      "cell_type": "code",
      "source": [
        "# Print out the number of images in each set\n",
        "print(f\"Number of training images: {len(train_dataset)}\")\n",
        "print(f\"Number of validation images: {len(val_dataset)}\")\n",
        "print(f\"Number of test images: {len(test_dataset)}\")"
      ],
      "metadata": {
        "id": "-HVV8Sm-YqrG",
        "outputId": "ed48b39e-e3e5-4bc5-d238-3ec2bc3ac161",
        "colab": {
          "base_uri": "https://localhost:8080/"
        }
      },
      "execution_count": null,
      "outputs": [
        {
          "output_type": "stream",
          "name": "stdout",
          "text": [
            "Number of training images: 4684\n",
            "Number of validation images: 585\n",
            "Number of test images: 587\n"
          ]
        }
      ]
    },
    {
      "cell_type": "code",
      "source": [
        "# Iterate over one batch from the train_loader to check the shape of images and labels\n",
        "for images, labels in train_loader:\n",
        "    print(f\"Image batch shape: {images.size()}\")\n",
        "    print(f\"Labels batch shape: {labels.size()}\")\n",
        "    break  # Exit the loop after one batch (remove this to see all batches)"
      ],
      "metadata": {
        "id": "J_8a5U5vYtrk",
        "outputId": "7a9646cf-2a62-41c9-afbf-0d0225aeef1c",
        "colab": {
          "base_uri": "https://localhost:8080/"
        }
      },
      "execution_count": null,
      "outputs": [
        {
          "output_type": "stream",
          "name": "stdout",
          "text": [
            "Image batch shape: torch.Size([16, 1, 1024, 1024])\n",
            "Labels batch shape: torch.Size([16])\n"
          ]
        }
      ]
    },
    {
      "cell_type": "code",
      "source": [
        "print(torch.cuda.get_device_name(0))\n",
        "print(torch.cuda.is_available())"
      ],
      "metadata": {
        "id": "sqx9iWZ_YxO1",
        "outputId": "265c8b67-5ff9-48e4-9f1e-92ae049d1f53",
        "colab": {
          "base_uri": "https://localhost:8080/"
        }
      },
      "execution_count": null,
      "outputs": [
        {
          "output_type": "stream",
          "name": "stdout",
          "text": [
            "Tesla T4\n",
            "True\n"
          ]
        }
      ]
    },
    {
      "cell_type": "code",
      "source": [
        "# Check if GPU is available\n",
        "device = torch.device(\"cuda\" if torch.cuda.is_available() else \"cpu\")\n",
        "print(f\"Using device: {device}\")"
      ],
      "metadata": {
        "id": "rdnRZiDhY07R",
        "outputId": "64ec1c7c-de75-4d93-9883-434e3e658b10",
        "colab": {
          "base_uri": "https://localhost:8080/"
        }
      },
      "execution_count": null,
      "outputs": [
        {
          "output_type": "stream",
          "name": "stdout",
          "text": [
            "Using device: cuda\n"
          ]
        }
      ]
    },
    {
      "cell_type": "code",
      "source": [
        "class XRayCNN(nn.Module):\n",
        "    def __init__(self):\n",
        "        super(XRayCNN, self).__init__()\n",
        "        self.conv1 = nn.Conv2d(1, 16, kernel_size=3, stride=1, padding=1)\n",
        "        self.conv2 = nn.Conv2d(16, 32, kernel_size=3, stride=1, padding=1)\n",
        "        self.conv3 = nn.Conv2d(32, 64, kernel_size=3, stride=1, padding=1)\n",
        "        self.conv4 = nn.Conv2d(64, 128, kernel_size=3, stride=1, padding=1)\n",
        "\n",
        "        self.pool = nn.MaxPool2d(kernel_size=2, stride=2)\n",
        "        self.batch_norm1 = nn.BatchNorm2d(16)\n",
        "        self.batch_norm2 = nn.BatchNorm2d(32)\n",
        "        self.batch_norm3 = nn.BatchNorm2d(64)\n",
        "        self.batch_norm4 = nn.BatchNorm2d(128)\n",
        "\n",
        "        self.global_pool = nn.AdaptiveAvgPool2d((1, 1))\n",
        "        self.fc1 = nn.Linear(128, 128)\n",
        "        self.fc2 = nn.Linear(128, 2)\n",
        "\n",
        "        self.dropout = nn.Dropout(0.5)\n",
        "        self.relu = nn.ReLU()\n",
        "\n",
        "    def forward(self, x):\n",
        "        x = self.pool(self.batch_norm1(self.relu(self.conv1(x))))\n",
        "        x = self.pool(self.batch_norm2(self.relu(self.conv2(x))))\n",
        "        x = self.pool(self.batch_norm3(self.relu(self.conv3(x))))\n",
        "        x = self.pool(self.batch_norm4(self.relu(self.conv4(x))))\n",
        "\n",
        "        x = self.global_pool(x)\n",
        "        x = x.view(-1, 128)\n",
        "\n",
        "        x = self.relu(self.fc1(x))\n",
        "        x = self.dropout(x)\n",
        "        x = self.fc2(x)\n",
        "\n",
        "        return x\n"
      ],
      "metadata": {
        "id": "C8Fxz60oY7dp"
      },
      "execution_count": null,
      "outputs": []
    },
    {
      "cell_type": "code",
      "source": [
        "torch.cuda.empty_cache()"
      ],
      "metadata": {
        "id": "rjwd-o65Y__8"
      },
      "execution_count": null,
      "outputs": []
    },
    {
      "cell_type": "code",
      "source": [
        "# Initialize model, move to GPU if available\n",
        "device = torch.device(\"cuda\" if torch.cuda.is_available() else \"cpu\")\n",
        "# Instantiate the model and move it to the GPU\n",
        "model = XRayCNN().to(device)"
      ],
      "metadata": {
        "id": "JvncxshZZCfT"
      },
      "execution_count": null,
      "outputs": []
    },
    {
      "cell_type": "code",
      "source": [
        "# Define criterion and optimizer\n",
        "criterion = nn.CrossEntropyLoss()\n",
        "optimizer = optim.AdamW(model.parameters(), lr=0.001, weight_decay=1e-5)\n",
        "\n",
        "# Learning rate scheduler\n",
        "scheduler = torch.optim.lr_scheduler.ReduceLROnPlateau(optimizer, mode='min', factor=0.1, patience=3)\n",
        "\n",
        "# Use GradScaler for mixed precision training\n",
        "scaler = GradScaler()\n"
      ],
      "metadata": {
        "id": "SdsxwI2FZF-v",
        "outputId": "4eb2ba35-3ebc-45d1-bfb1-d64e281423a2",
        "colab": {
          "base_uri": "https://localhost:8080/"
        }
      },
      "execution_count": null,
      "outputs": [
        {
          "output_type": "stream",
          "name": "stderr",
          "text": [
            "<ipython-input-26-b44b57074250>:9: FutureWarning: `torch.cuda.amp.GradScaler(args...)` is deprecated. Please use `torch.amp.GradScaler('cuda', args...)` instead.\n",
            "  scaler = GradScaler()\n"
          ]
        }
      ]
    },
    {
      "cell_type": "code",
      "source": [
        "# Hyperparameters\n",
        "num_epochs = 10\n",
        "accumulation_steps = 4"
      ],
      "metadata": {
        "id": "F27cseD8ZJgv"
      },
      "execution_count": null,
      "outputs": []
    },
    {
      "cell_type": "code",
      "source": [
        "# Lists to store losses and accuracies for plotting\n",
        "train_losses = []\n",
        "val_losses = []\n",
        "train_accuracies = []\n",
        "val_accuracies = []\n",
        "\n",
        "# Training and validation loop\n",
        "for epoch in range(num_epochs):\n",
        "    # Training Phase\n",
        "    model.train()\n",
        "    running_train_loss = 0.0\n",
        "    correct_train = 0\n",
        "    total_train = 0\n",
        "\n",
        "    optimizer.zero_grad()\n",
        "\n",
        "    for i, (inputs, labels) in enumerate(train_loader):\n",
        "        inputs, labels = inputs.to(device), labels.to(device)\n",
        "\n",
        "        # Forward pass with mixed precision\n",
        "        with autocast():\n",
        "            outputs = model(inputs)\n",
        "            loss = criterion(outputs, labels)\n",
        "\n",
        "        # Backward pass with gradient scaling\n",
        "        scaler.scale(loss).backward()\n",
        "\n",
        "        # Update weights after every accumulation_steps batches\n",
        "        if (i + 1) % accumulation_steps == 0 or (i + 1) == len(train_loader):\n",
        "            scaler.step(optimizer)\n",
        "            scaler.update()\n",
        "            optimizer.zero_grad()\n",
        "\n",
        "        running_train_loss += loss.item()\n",
        "\n",
        "        # Calculate training accuracy\n",
        "        _, predicted = torch.max(outputs, 1)\n",
        "        total_train += labels.size(0)\n",
        "        correct_train += (predicted == labels).sum().item()\n",
        "\n",
        "    # Calculate average training loss and accuracy for the epoch\n",
        "    epoch_train_loss = running_train_loss / len(train_loader)\n",
        "    epoch_train_accuracy = (correct_train / total_train) * 100\n",
        "    train_losses.append(epoch_train_loss)\n",
        "    train_accuracies.append(epoch_train_accuracy)\n",
        "\n",
        "    # Validation Phase\n",
        "    model.eval()\n",
        "    running_val_loss = 0.0\n",
        "    correct_val = 0\n",
        "    total_val = 0\n",
        "\n",
        "    with torch.no_grad():\n",
        "        for inputs, labels in val_loader:\n",
        "            inputs, labels = inputs.to(device), labels.to(device)\n",
        "\n",
        "            # Forward pass\n",
        "            with autocast():\n",
        "                outputs = model(inputs)\n",
        "                loss = criterion(outputs, labels)\n",
        "\n",
        "            running_val_loss += loss.item()\n",
        "\n",
        "            # Calculate validation accuracy\n",
        "            _, predicted = torch.max(outputs, 1)\n",
        "            total_val += labels.size(0)\n",
        "            correct_val += (predicted == labels).sum().item()\n",
        "\n",
        "    # Calculate average validation loss and accuracy for the epoch\n",
        "    epoch_val_loss = running_val_loss / len(val_loader)\n",
        "    epoch_val_accuracy = (correct_val / total_val) * 100\n",
        "    val_losses.append(epoch_val_loss)\n",
        "    val_accuracies.append(epoch_val_accuracy)\n",
        "\n",
        "    # Learning rate adjustment\n",
        "    scheduler.step(epoch_val_loss)\n",
        "\n",
        "    print(f\"Epoch [{epoch + 1}/{num_epochs}]\")\n",
        "    print(f\"Train Loss: {epoch_train_loss:.4f}, Train Accuracy: {epoch_train_accuracy:.2f}%\")\n",
        "    print(f\"Validation Loss: {epoch_val_loss:.4f}, Validation Accuracy: {epoch_val_accuracy:.2f}%\")"
      ],
      "metadata": {
        "id": "NGOCtESlZMqw",
        "outputId": "cf9a5951-4da9-4c2d-8c13-3da69ee97885",
        "colab": {
          "base_uri": "https://localhost:8080/"
        }
      },
      "execution_count": null,
      "outputs": [
        {
          "output_type": "stream",
          "name": "stderr",
          "text": [
            "<ipython-input-28-e9dfc461e2fd>:21: FutureWarning: `torch.cuda.amp.autocast(args...)` is deprecated. Please use `torch.amp.autocast('cuda', args...)` instead.\n",
            "  with autocast():\n",
            "<ipython-input-28-e9dfc461e2fd>:58: FutureWarning: `torch.cuda.amp.autocast(args...)` is deprecated. Please use `torch.amp.autocast('cuda', args...)` instead.\n",
            "  with autocast():\n"
          ]
        },
        {
          "output_type": "stream",
          "name": "stdout",
          "text": [
            "Epoch [1/10]\n",
            "Train Loss: 0.3588, Train Accuracy: 84.95%\n",
            "Validation Loss: 0.5851, Validation Accuracy: 77.61%\n",
            "Epoch [2/10]\n",
            "Train Loss: 0.2429, Train Accuracy: 90.99%\n",
            "Validation Loss: 0.1881, Validation Accuracy: 92.82%\n",
            "Epoch [3/10]\n",
            "Train Loss: 0.2026, Train Accuracy: 92.95%\n",
            "Validation Loss: 0.2006, Validation Accuracy: 93.68%\n",
            "Epoch [4/10]\n",
            "Train Loss: 0.1717, Train Accuracy: 93.72%\n",
            "Validation Loss: 0.1513, Validation Accuracy: 94.02%\n",
            "Epoch [5/10]\n",
            "Train Loss: 0.1882, Train Accuracy: 93.13%\n",
            "Validation Loss: 0.1399, Validation Accuracy: 94.36%\n",
            "Epoch [6/10]\n",
            "Train Loss: 0.1595, Train Accuracy: 94.15%\n",
            "Validation Loss: 0.2863, Validation Accuracy: 87.01%\n",
            "Epoch [7/10]\n",
            "Train Loss: 0.1531, Train Accuracy: 94.45%\n",
            "Validation Loss: 0.5858, Validation Accuracy: 81.03%\n",
            "Epoch [8/10]\n",
            "Train Loss: 0.1549, Train Accuracy: 94.56%\n",
            "Validation Loss: 0.2843, Validation Accuracy: 87.86%\n",
            "Epoch [9/10]\n",
            "Train Loss: 0.1409, Train Accuracy: 95.18%\n",
            "Validation Loss: 0.1310, Validation Accuracy: 94.87%\n",
            "Epoch [10/10]\n",
            "Train Loss: 0.1542, Train Accuracy: 94.21%\n",
            "Validation Loss: 0.1410, Validation Accuracy: 95.04%\n"
          ]
        }
      ]
    },
    {
      "cell_type": "code",
      "source": [
        "# Plotting Training and Validation Accuracy\n",
        "plt.figure(figsize=(10, 6))\n",
        "plt.plot(range(1, num_epochs + 1), train_accuracies, label='Training Accuracy', marker='o')\n",
        "plt.plot(range(1, num_epochs + 1), val_accuracies, label='Validation Accuracy', marker='x')\n",
        "plt.title('Training and Validation Accuracy')\n",
        "plt.xlabel('Epochs')\n",
        "plt.ylabel('Accuracy (%)')\n",
        "plt.legend()\n",
        "plt.grid()\n",
        "plt.show()"
      ],
      "metadata": {
        "id": "CX99XkxKZSNQ",
        "outputId": "23c5f83e-8c70-4f2f-9fb5-ffdd93af9f9c",
        "colab": {
          "base_uri": "https://localhost:8080/",
          "height": 564
        }
      },
      "execution_count": null,
      "outputs": [
        {
          "output_type": "display_data",
          "data": {
            "text/plain": [
              "<Figure size 1000x600 with 1 Axes>"
            ],
            "image/png": "[encoded data removed]"
          },
          "metadata": {}
        }
      ]
    },
    {
      "cell_type": "code",
      "source": [
        "import matplotlib.pyplot as plt\n",
        "\n",
        "# Plot loss curve\n",
        "plt.figure(figsize=(10, 5))\n",
        "plt.plot(range(1, num_epochs + 1), train_losses, label='Training Loss')\n",
        "plt.title('Training Loss Over Epochs')\n",
        "plt.xlabel('Epochs')\n",
        "plt.ylabel('Loss')\n",
        "plt.legend()\n",
        "plt.show()\n",
        "\n",
        "# Plot accuracy curve\n",
        "plt.figure(figsize=(10, 5))\n",
        "plt.plot(range(1, num_epochs + 1), train_accuracies, label='Training Accuracy')\n",
        "plt.title('Training Accuracy Over Epochs')\n",
        "plt.xlabel('Epochs')\n",
        "plt.ylabel('Accuracy (%)')\n",
        "plt.legend()\n",
        "plt.show()\n"
      ],
      "metadata": {
        "id": "n6uinXScWo24",
        "outputId": "69b146a5-b6c9-4930-f78e-8f15894bd865",
        "colab": {
          "base_uri": "https://localhost:8080/",
          "height": 957
        }
      },
      "execution_count": null,
      "outputs": [
        {
          "output_type": "display_data",
          "data": {
            "text/plain": [
              "<Figure size 1000x500 with 1 Axes>"
            ],
            "image/png": "[encoded data removed]"
          },
          "metadata": {}
        },
        {
          "output_type": "display_data",
          "data": {
            "text/plain": [
              "<Figure size 1000x500 with 1 Axes>"
            ],
            "image/png": "[encoded data removed]"
          },
          "metadata": {}
        }
      ]
    },
    {
      "cell_type": "code",
      "source": [
        "from sklearn.metrics import confusion_matrix, ConfusionMatrixDisplay, precision_score, recall_score, f1_score\n",
        "\n",
        "# Initialize lists to store true and predicted labels\n",
        "all_labels = []\n",
        "all_predictions = []\n",
        "\n",
        "# Disable gradient calculation for evaluation\n",
        "with torch.no_grad():\n",
        "    for inputs, labels in test_loader:\n",
        "        inputs, labels = inputs.to(device), labels.to(device)\n",
        "\n",
        "        # Forward pass\n",
        "        outputs = model(inputs)\n",
        "\n",
        "        # Get the predicted class by taking the class with the highest score\n",
        "        _, predicted = torch.max(outputs, 1)\n",
        "\n",
        "        all_labels.extend(labels.cpu().numpy())\n",
        "        all_predictions.extend(predicted.cpu().numpy())\n",
        "\n",
        "# Compute confusion matrix\n",
        "cm = confusion_matrix(all_labels, all_predictions)\n",
        "print(\"Confusion Matrix:\")\n",
        "print(cm)\n",
        "\n",
        "# Plot confusion matrix\n",
        "disp = ConfusionMatrixDisplay(confusion_matrix=cm)\n",
        "disp.plot(cmap='Blues')\n",
        "plt.title('Confusion Matrix of Test Dataset')\n",
        "plt.show()\n",
        "\n",
        "\n",
        "TP = cm[1, 1]  # True Positives\n",
        "TN = cm[0, 0]  # True Negatives\n",
        "FP = cm[0, 1]  # False Positives\n",
        "FN = cm[1, 0]  # False Negatives\n",
        "\n",
        "# Sensitivity (Recall): True Positive Rate\n",
        "sensitivity = TP / (TP + FN)\n",
        "# Specificity: True Negative Rate\n",
        "specificity = TN / (TN + FP)\n",
        "# Precision: When it predicts positive, how often is it correct?\n",
        "precision = TP / (TP + FP)\n",
        "# F1 Score: Harmonic mean of precision and recall\n",
        "f1 = 2 * (precision * sensitivity) / (precision + sensitivity)\n",
        "\n",
        "# Print calculated metrics\n",
        "print(f\"Sensitivity (Recall): {sensitivity:.4f}\")\n",
        "print(f\"Specificity: {specificity:.4f}\")\n",
        "print(f\"Precision: {precision:.4f}\")\n",
        "print(f\"F1-Score: {f1:.4f}\")"
      ],
      "metadata": {
        "id": "XFU_U9-2WuK3",
        "outputId": "b6365e40-2aef-4aae-c1f3-eb6f5c35e0aa",
        "colab": {
          "base_uri": "https://localhost:8080/",
          "height": 593
        }
      },
      "execution_count": null,
      "outputs": [
        {
          "output_type": "stream",
          "name": "stdout",
          "text": [
            "Confusion Matrix:\n",
            "[[151  13]\n",
            " [ 26 397]]\n"
          ]
        },
        {
          "output_type": "display_data",
          "data": {
            "text/plain": [
              "<Figure size 640x480 with 2 Axes>"
            ],
            "image/png": "[encoded data removed]"
          },
          "metadata": {}
        },
        {
          "output_type": "stream",
          "name": "stdout",
          "text": [
            "Sensitivity (Recall): 0.9385\n",
            "Specificity: 0.9207\n",
            "Precision: 0.9683\n",
            "F1-Score: 0.9532\n"
          ]
        }
      ]
    },
    {
      "cell_type": "code",
      "source": [
        "# Set the model to evaluation mode\n",
        "model.eval()\n",
        "\n",
        "# Initialize variables to calculate accuracy\n",
        "correct = 0\n",
        "total = 0\n",
        "\n",
        "# Disable gradient calculation for evaluation\n",
        "with torch.no_grad():\n",
        "    # Iterate over the test data\n",
        "    for inputs, labels in test_loader:\n",
        "        inputs, labels = inputs.to(device), labels.to(device)\n",
        "\n",
        "        # Forward pass\n",
        "        outputs = model(inputs)\n",
        "\n",
        "        # Get the predicted class by taking the class with the highest score\n",
        "        _, predicted = torch.max(outputs, 1)\n",
        "\n",
        "        # Update total and correct counts\n",
        "        total += labels.size(0)\n",
        "        correct += (predicted == labels).sum().item()\n",
        "# Calculate accuracy\n",
        "accuracy = 100 * correct / total\n",
        "print(f\"Test Accuracy: {accuracy:.2f}%\")\n"
      ],
      "metadata": {
        "id": "mVyB6Xa8XYx3",
        "outputId": "0c6ff46a-071f-452a-bbec-8241d7ef1f2d",
        "colab": {
          "base_uri": "https://localhost:8080/"
        }
      },
      "execution_count": null,
      "outputs": [
        {
          "output_type": "stream",
          "name": "stdout",
          "text": [
            "Test Accuracy: 94.04%\n"
          ]
        }
      ]
    },
    {
      "cell_type": "code",
      "source": [
        "# Define the path to save the model\n",
        "model_save_path = \"xray_cnn_model.pth\"\n",
        "\n",
        "# Save the model's state_dict (parameters)\n",
        "torch.save(model.state_dict(), model_save_path)\n",
        "\n",
        "print(f\"Model saved to {model_save_path}\")\n"
      ],
      "metadata": {
        "id": "HaePENypXdcK",
        "outputId": "33ad815a-d42b-4e4b-879c-16c241cb2f47",
        "colab": {
          "base_uri": "https://localhost:8080/"
        }
      },
      "execution_count": null,
      "outputs": [
        {
          "output_type": "stream",
          "name": "stdout",
          "text": [
            "Model saved to xray_cnn_model.pth\n"
          ]
        }
      ]
    }
  ],
  "metadata": {
    "accelerator": "GPU",
    "colab": {
      "gpuType": "T4",
      "provenance": []
    },
    "kernelspec": {
      "display_name": "Python 3",
      "name": "python3"
    },
    "language_info": {
      "name": "python"
    }
  },
  "nbformat": 4,
  "nbformat_minor": 0
}